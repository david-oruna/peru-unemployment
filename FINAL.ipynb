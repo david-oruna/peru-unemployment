{
 "cells": [
  {
   "cell_type": "markdown",
   "id": "276b380d-f12c-41ee-9785-d70adf4b8dd9",
   "metadata": {},
   "source": [
    "# Análisis TDA - REPORTE FINAL "
   ]
  },
  {
   "cell_type": "code",
   "execution_count": null,
   "id": "8473dff1-ed59-411f-9b47-8a170400ffac",
   "metadata": {},
   "outputs": [],
   "source": []
  }
 ],
 "metadata": {
  "kernelspec": {
   "display_name": "Python 3 (ipykernel)",
   "language": "python",
   "name": "python3"
  },
  "language_info": {
   "codemirror_mode": {
    "name": "ipython",
    "version": 3
   },
   "file_extension": ".py",
   "mimetype": "text/x-python",
   "name": "python",
   "nbconvert_exporter": "python",
   "pygments_lexer": "ipython3",
   "version": "3.10.4"
  }
 },
 "nbformat": 4,
 "nbformat_minor": 5
}
