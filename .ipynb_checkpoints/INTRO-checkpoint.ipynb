{
 "cells": [
  {
   "cell_type": "markdown",
   "id": "0be7e3f8-ba66-42dd-8c8c-83ff7766866e",
   "metadata": {},
   "source": [
    "# EXPLICACIÓN DE LOS NOTEBOOKS Y DESARROLLO DEL PROYECTO "
   ]
  },
  {
   "cell_type": "markdown",
   "id": "2c11ad88-306a-4068-b314-511a45152a47",
   "metadata": {},
   "source": [
    "EPEN.ipynb: Usamos la data de los EPEN para gráficos series temporales (agrupando por género, edad y n.e) y para cálculos métricos \n",
    "\n",
    "\n",
    "BCR.ipynb: Usamos data de BCR \n",
    "https://estadisticas.bcrp.gob.pe/estadisticas/series/buscador\n",
    "\n",
    "\n",
    "\n",
    "FINAL.ipynb: Juntamos las funciones principales creadas en cada notebook, utilizando todas las datasets y métodos aplicados hasta el momento. Juntamos los análisis de gráficos de la misma o similar información. Organizamos y resumimos. Comparamos resultados, porcentajes, valores hallados en cada notebook (comparar con otros estudios). Hallamos patrones, tendencias o curiosidades. Realizamos conclusiones finales.\n"
   ]
  },
  {
   "cell_type": "markdown",
   "id": "22d0228d-037b-4369-86bd-98d6e6485f82",
   "metadata": {},
   "source": [
    "Pasos a seguir:\n",
    "\n",
    "\n"
   ]
  },
  {
   "cell_type": "code",
   "execution_count": null,
   "id": "dd118562-4d26-4548-bbb0-6ceed73e4c2e",
   "metadata": {},
   "outputs": [],
   "source": []
  }
 ],
 "metadata": {
  "kernelspec": {
   "display_name": "Python 3 (ipykernel)",
   "language": "python",
   "name": "python3"
  },
  "language_info": {
   "codemirror_mode": {
    "name": "ipython",
    "version": 3
   },
   "file_extension": ".py",
   "mimetype": "text/x-python",
   "name": "python",
   "nbconvert_exporter": "python",
   "pygments_lexer": "ipython3",
   "version": "3.9.13"
  }
 },
 "nbformat": 4,
 "nbformat_minor": 5
}
